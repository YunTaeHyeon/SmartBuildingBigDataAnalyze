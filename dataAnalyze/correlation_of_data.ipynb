{
  "nbformat": 4,
  "nbformat_minor": 0,
  "metadata": {
    "colab": {
      "provenance": [],
      "authorship_tag": "ABX9TyMonKYYGPBpMe0mrrLb54uq",
      "include_colab_link": true
    },
    "kernelspec": {
      "name": "python3",
      "display_name": "Python 3"
    },
    "language_info": {
      "name": "python"
    }
  },
  "cells": [
    {
      "cell_type": "markdown",
      "metadata": {
        "id": "view-in-github",
        "colab_type": "text"
      },
      "source": [
        "<a href=\"https://colab.research.google.com/github/YunTaeHyeon/SmartBuildingBigDataAnalyze/blob/main/dataAnalyze/correlation_of_data.ipynb\" target=\"_parent\"><img src=\"https://colab.research.google.com/assets/colab-badge.svg\" alt=\"Open In Colab\"/></a>"
      ]
    },
    {
      "cell_type": "code",
      "execution_count": 3,
      "metadata": {
        "colab": {
          "base_uri": "https://localhost:8080/"
        },
        "id": "ANYwMxfaIbOy",
        "outputId": "c6425c27-e16e-4c03-e64b-4fb642cc53ea"
      },
      "outputs": [
        {
          "output_type": "stream",
          "name": "stdout",
          "text": [
            "Drive already mounted at /content/drive; to attempt to forcibly remount, call drive.mount(\"/content/drive\", force_remount=True).\n"
          ]
        }
      ],
      "source": [
        "from google.colab import drive\n",
        "drive.mount('/content/drive')\n",
        "\n",
        "import numpy as np\n",
        "import pandas as pd\n",
        "import matplotlib.pyplot as plt\n",
        "import tensorflow as tf\n",
        "import os\n",
        "import re\n",
        "import csv\n",
        "import gensim\n",
        "from sklearn.preprocessing import normalize\n",
        "from itertools import combinations"
      ]
    },
    {
      "cell_type": "markdown",
      "source": [
        "# 코사인 유사도 0.9 이상만"
      ],
      "metadata": {
        "id": "dYlexkT3S6J1"
      }
    },
    {
      "cell_type": "code",
      "source": [
        "# CSV 파일 불러오기\n",
        "data = pd.read_csv('/content/drive/MyDrive/경진대회 DATA/train_data.csv', encoding='cp1252')\n",
        "\n",
        "# 열 선택\n",
        "selected_columns = data[['temp', 'humi', 'co2', 'dust_pm1', 'dust_pm_25', 'dust_pm_10', 'illuminance', 'voc', 'eco2', 'PIR']]\n",
        "\n",
        "# 결측치가 있는 행 제거\n",
        "data_without_na = selected_columns.dropna()\n",
        "\n",
        "# 데이터 정규화\n",
        "normalized_data = normalize(data_without_na.values, axis=0)\n",
        "\n",
        "# 코사인 유사도 계산\n",
        "cosine_similarities = {}\n",
        "\n",
        "for col1, col2 in combinations(data_without_na.columns, 2):\n",
        "    vector1 = normalized_data[:, data_without_na.columns.get_loc(col1)]\n",
        "    vector2 = normalized_data[:, data_without_na.columns.get_loc(col2)]\n",
        "    cosine_similarity = np.dot(vector1, vector2) / (np.linalg.norm(vector1) * np.linalg.norm(vector2))\n",
        "    cosine_similarities[(col1, col2)] = cosine_similarity\n",
        "\n",
        "for (col1, col2), similarity in cosine_similarities.items():\n",
        "    if similarity >= 0.9:\n",
        "        print(f\"코사인 유사도 {col1} , {col2}: {similarity}\")"
      ],
      "metadata": {
        "colab": {
          "base_uri": "https://localhost:8080/"
        },
        "id": "USwGXdi9KLXF",
        "outputId": "a1baa9db-bb7d-4c72-e0d6-974cff8903ac"
      },
      "execution_count": 8,
      "outputs": [
        {
          "output_type": "stream",
          "name": "stdout",
          "text": [
            "코사인 유사도 temp , humi: 0.9782043770661988\n",
            "코사인 유사도 temp , co2: 0.913889930701971\n",
            "코사인 유사도 humi , co2: 0.9043288176115872\n",
            "코사인 유사도 dust_pm1 , dust_pm_25: 0.9961852546511202\n",
            "코사인 유사도 dust_pm1 , dust_pm_10: 0.9682329690902972\n",
            "코사인 유사도 dust_pm_25 , dust_pm_10: 0.9863037549889474\n"
          ]
        }
      ]
    },
    {
      "cell_type": "markdown",
      "source": [
        "# PIR과 다른 모든 열들과의 유사도"
      ],
      "metadata": {
        "id": "25FE4o8CS_Cl"
      }
    },
    {
      "cell_type": "code",
      "source": [
        "# CSV 파일 불러오기\n",
        "data_with_na = pd.read_csv('/content/drive/MyDrive/경진대회 DATA/train_data.csv', encoding='cp1252')\n",
        "\n",
        "# 결측치가 있는 행 제거\n",
        "data = data_with_na.dropna()\n",
        "\n",
        "# 'PIR' 열 선택\n",
        "pir_column = data['PIR']\n",
        "\n",
        "# 다른 열들 선택\n",
        "other_columns = data[['temp', 'humi', 'co2', 'dust_pm1', 'dust_pm_25', 'dust_pm_10', 'illuminance', 'voc', 'eco2']]\n",
        "\n",
        "# 데이터 정규화\n",
        "normalized_pir = normalize(pir_column.values.reshape(1, -1))\n",
        "normalized_other = normalize(other_columns.values, axis=0)\n",
        "\n",
        "# 코사인 유사도 계산\n",
        "cosine_similarities = {}\n",
        "\n",
        "for column_name, column_values in other_columns.items():\n",
        "    vector = normalized_other[:, other_columns.columns.get_loc(column_name)]\n",
        "    cosine_similarity = np.dot(normalized_pir, vector) / (np.linalg.norm(normalized_pir) * np.linalg.norm(vector))\n",
        "    cosine_similarities[column_name] = cosine_similarity\n",
        "\n",
        "# 결과 출력\n",
        "for column_name, similarity in cosine_similarities.items():\n",
        "    print(f\"PIR과의 코사인 유사도 {column_name}: {similarity}\") #쓰지 않아도 될것으로 예상"
      ],
      "metadata": {
        "colab": {
          "base_uri": "https://localhost:8080/"
        },
        "id": "LOr_gge1Sg1E",
        "outputId": "e842031b-2197-4f7d-9aa2-4633d92b7f2a"
      },
      "execution_count": 14,
      "outputs": [
        {
          "output_type": "stream",
          "name": "stdout",
          "text": [
            "PIR과의 코사인 유사도 temp: [0.12694015]\n",
            "PIR과의 코사인 유사도 humi: [0.12823687]\n",
            "PIR과의 코사인 유사도 co2: [0.15763484]\n",
            "PIR과의 코사인 유사도 dust_pm1: [0.09654377]\n",
            "PIR과의 코사인 유사도 dust_pm_25: [0.0969877]\n",
            "PIR과의 코사인 유사도 dust_pm_10: [0.09553409]\n",
            "PIR과의 코사인 유사도 illuminance: [0.11315175]\n",
            "PIR과의 코사인 유사도 voc: [0.03275457]\n",
            "PIR과의 코사인 유사도 eco2: [0.13158344]\n"
          ]
        }
      ]
    }
  ]
}